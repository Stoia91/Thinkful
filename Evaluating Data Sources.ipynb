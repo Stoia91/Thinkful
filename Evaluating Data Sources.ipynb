{
 "cells": [
  {
   "cell_type": "markdown",
   "metadata": {},
   "source": [
    "Data Source: Amsterdam availability data scraped from AirBnB on December 24th.\n",
    "\n",
    "Question: What are the popular neighborhoods in Amsterdam?\n",
    "\n",
    "The date of collection being December 24th, Christmas Eve, would most likely give us a selection bias due to exceptional circumstance. The popularity of dwellings in the sample would not accurately represent the availabilities during other times of the year. The question that is answered by the data is 'What are the popular neighborhoods in Amsterdam on Christmas Eve?'"
   ]
  },
  {
   "cell_type": "markdown",
   "metadata": {},
   "source": [
    "Data Source: Mental health services use on September 12, 2001 in San Francisco, CA and New York City, NY.\n",
    "\n",
    "Question: How do patterns of mental health service use vary between cities?\n",
    "\n",
    "The events which occured in New York City on 9/11/01 would be an exceptional circumstance and data collected regarding mental health would be drastically skewed, especially in New York City. However, the data could help answer the question: 'How did the use of mental health services immediately after 9/11 in NYC compare to that of San Francisco?'"
   ]
  },
  {
   "cell_type": "markdown",
   "metadata": {},
   "source": [
    "Data Source: Armenian Pub Survey.\n",
    "\n",
    "Question: What are the most common reasons Armenians visit local pubs?\n",
    "\n",
    "The question does not quite fit the one ask on the survey. The survey asks for a one-time overriding preference, while the question being posed is ask presumably what motivates each visit, so responses may not get the weight they deserve, based on the frequency of visits. e.g. regulars might come for the music, not the environment and thus music would account for a greater share of visits. A more appropriate question would be 'What is the most commonly preferred feature of a pub by Armenians'. The data is also unevenly distributed across time; the survey is only being conducted on the weekends! That means the quality of the data is compromised."
   ]
  },
  {
   "cell_type": "code",
   "execution_count": null,
   "metadata": {},
   "outputs": [],
   "source": []
  }
 ],
 "metadata": {
  "kernelspec": {
   "display_name": "Python 3",
   "language": "python",
   "name": "python3"
  },
  "language_info": {
   "codemirror_mode": {
    "name": "ipython",
    "version": 3
   },
   "file_extension": ".py",
   "mimetype": "text/x-python",
   "name": "python",
   "nbconvert_exporter": "python",
   "pygments_lexer": "ipython3",
   "version": "3.7.1"
  }
 },
 "nbformat": 4,
 "nbformat_minor": 2
}
