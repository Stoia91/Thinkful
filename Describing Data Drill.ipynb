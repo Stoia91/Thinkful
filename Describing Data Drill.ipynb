{
 "cells": [
  {
   "cell_type": "code",
   "execution_count": 1,
   "metadata": {},
   "outputs": [],
   "source": [
    "import numpy as np\n",
    "import pandas as pd\n",
    "import statistics\n",
    "%matplotlib inline"
   ]
  },
  {
   "cell_type": "code",
   "execution_count": 2,
   "metadata": {},
   "outputs": [],
   "source": [
    "children = pd.DataFrame()"
   ]
  },
  {
   "cell_type": "code",
   "execution_count": 3,
   "metadata": {},
   "outputs": [],
   "source": [
    "children['age'] = ([14,12,11,10,8,6,8])"
   ]
  },
  {
   "cell_type": "code",
   "execution_count": 4,
   "metadata": {},
   "outputs": [
    {
     "name": "stdout",
     "output_type": "stream",
     "text": [
      "Mean age = 9.857142857142858\n",
      "Median age = 10.0\n",
      "Mode of age = 8\n"
     ]
    }
   ],
   "source": [
    "print('Mean age = ' + str(np.mean(children['age'])))\n",
    "print('Median age = ' + str(np.median(children['age'])))\n",
    "print('Mode of age = ' + str(statistics.mode(children['age'])))"
   ]
  },
  {
   "cell_type": "code",
   "execution_count": 13,
   "metadata": {},
   "outputs": [
    {
     "name": "stdout",
     "output_type": "stream",
     "text": [
      "             age\n",
      "count   7.000000\n",
      "mean    9.000000\n",
      "std     4.242641\n",
      "min     1.000000\n",
      "25%     7.500000\n",
      "50%    10.000000\n",
      "75%    11.500000\n",
      "max    14.000000\n"
     ]
    }
   ],
   "source": [
    "print(children.describe())"
   ]
  },
  {
   "cell_type": "code",
   "execution_count": 6,
   "metadata": {},
   "outputs": [
    {
     "name": "stdout",
     "output_type": "stream",
     "text": [
      "Variance of age = 6.408163265306122\n",
      "Standard Deviation of age = 2.734262327610589\n",
      "Standard Error of age = 1.0334540197243192\n"
     ]
    }
   ],
   "source": [
    "print('Variance of age = ' + str(np.var(children['age'])))\n",
    "print('Standard Deviation of age = ' + str(np.std(children['age'], ddof=1)))\n",
    "print('Standard Error of age = ' + str(np.std(children['age'], ddof=1)/np.sqrt(len(children['age']))))"
   ]
  },
  {
   "cell_type": "markdown",
   "metadata": {},
   "source": [
    "Using these estimates, I would pick the mean and standard deviation to describe the data, because the mean represents the closest approximation to any individual age, and the standard deviation states how much the data set as a whole differs from that value. Therefore, I would be giving a sense of the population as a whole."
   ]
  },
  {
   "cell_type": "code",
   "execution_count": 7,
   "metadata": {},
   "outputs": [
    {
     "name": "stdout",
     "output_type": "stream",
     "text": [
      "Mean age = 10.0\n",
      "Median age = 10.0\n",
      "Mode of age = 8\n",
      "Variance of age = 5.428571428571429\n",
      "Standard Deviation of age = 2.516611478423583\n",
      "Standard Error of age = 0.9511897312113418\n"
     ]
    }
   ],
   "source": [
    "children['age'] = ([14,12,11,10,8,7,8])\n",
    "print('Mean age = ' + str(np.mean(children['age'])))\n",
    "print('Median age = ' + str(np.median(children['age'])))\n",
    "print('Mode of age = ' + str(statistics.mode(children['age'])))\n",
    "print('Variance of age = ' + str(np.var(children['age'])))\n",
    "print('Standard Deviation of age = ' + str(np.std(children['age'], ddof=1)))\n",
    "print('Standard Error of age = ' + str(np.std(children['age'], ddof=1)/np.sqrt(len(children['age']))))"
   ]
  },
  {
   "cell_type": "markdown",
   "metadata": {},
   "source": [
    "The median and mode stayed the same, but every other statistic was affected by the change in that value."
   ]
  },
  {
   "cell_type": "code",
   "execution_count": 8,
   "metadata": {},
   "outputs": [
    {
     "name": "stdout",
     "output_type": "stream",
     "text": [
      "Mean age = 9.0\n",
      "Median age = 10.0\n",
      "Variance of age = 15.428571428571429\n",
      "Standard Deviation of age = 4.242640687119285\n",
      "Standard Error of age = 1.6035674514745462\n"
     ]
    }
   ],
   "source": [
    "children['age'] = ([14,12,11,10,8,7,1])\n",
    "print('Mean age = ' + str(np.mean(children['age'])))\n",
    "print('Median age = ' + str(np.median(children['age'])))\n",
    "#try:\n",
    "    #print('Mode of age = ' + str(statistics.mode(children['age'])))\n",
    "#except StatisticsError:\n",
    "    #print('No mode - all values have equal counts.')\n",
    "\n",
    "print('Variance of age = ' + str(np.var(children['age'])))\n",
    "print('Standard Deviation of age = ' + str(np.std(children['age'], ddof=1)))\n",
    "print('Standard Error of age = ' + str(np.std(children['age'], ddof=1)/np.sqrt(len(children['age']))))"
   ]
  },
  {
   "cell_type": "markdown",
   "metadata": {},
   "source": [
    "With this data, I would chose the median as the estimator for central tendency, as it is significantly less sensitive to the outlier introduced. I know that the measures of variance have increased, but I am unsure which estimate to select to eliminate bias."
   ]
  },
  {
   "cell_type": "code",
   "execution_count": 19,
   "metadata": {},
   "outputs": [],
   "source": [
    "fanbase = pd.DataFrame()\n"
   ]
  },
  {
   "cell_type": "code",
   "execution_count": 20,
   "metadata": {},
   "outputs": [
    {
     "name": "stdout",
     "output_type": "stream",
     "text": [
      "          survey\n",
      "count   4.000000\n",
      "mean   16.250000\n",
      "std     7.889867\n",
      "min     5.000000\n",
      "25%    14.000000\n",
      "50%    18.500000\n",
      "75%    20.750000\n",
      "max    23.000000\n"
     ]
    }
   ],
   "source": [
    "#5 is excluded as an outlier\n",
    "fanbase['survey'] = ([20,23,17,5])\n",
    "print(fanbase.describe())"
   ]
  },
  {
   "cell_type": "code",
   "execution_count": 21,
   "metadata": {},
   "outputs": [
    {
     "name": "stdout",
     "output_type": "stream",
     "text": [
      "Based on these numbers, I would estimate that 16.25 percent of Americans were fans.\n"
     ]
    }
   ],
   "source": [
    "#20.75 - 14 = 6.75. 6.75 * 1.5 = 10.125. 14 - 10.125 = 3.75 so, 5 is not an outlier\n",
    "print('Based on these numbers, I would estimate that ' + str(np.mean(fanbase['survey'])) + ' percent of Americans were fans.')"
   ]
  }
 ],
 "metadata": {
  "kernelspec": {
   "display_name": "Python 3",
   "language": "python",
   "name": "python3"
  },
  "language_info": {
   "codemirror_mode": {
    "name": "ipython",
    "version": 3
   },
   "file_extension": ".py",
   "mimetype": "text/x-python",
   "name": "python",
   "nbconvert_exporter": "python",
   "pygments_lexer": "ipython3",
   "version": "3.7.1"
  }
 },
 "nbformat": 4,
 "nbformat_minor": 2
}
