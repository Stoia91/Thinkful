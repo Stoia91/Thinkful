{
 "cells": [
  {
   "cell_type": "markdown",
   "metadata": {},
   "source": [
    "1: Probability of positive\n",
    "\n",
    "P(+) = P(+|True) * P(True) + P(+|False) * P(False)\n",
    "\n",
    "P(+) = .98 * .005 + .10 * .995\n",
    "\n",
    "P(+) = .1044 or 10.44%"
   ]
  },
  {
   "cell_type": "markdown",
   "metadata": {},
   "source": [
    "2: Correct diagnosis of sufferer of Tripshaw's\n",
    "\n",
    "P(+|True) = .98 or 98%"
   ]
  },
  {
   "cell_type": "markdown",
   "metadata": {},
   "source": [
    "3: Correctly identify non-sufferer of Tripshaw's\n",
    "\n",
    "P(-|False) = .90 or 90%"
   ]
  },
  {
   "cell_type": "markdown",
   "metadata": {},
   "source": [
    "4: Misclassify the person\n",
    "\n",
    "P(((+|False) and False) or ((-|True) and True)) = .0995 + .0001\n",
    "\n",
    "P(Misclassification) = .0996"
   ]
  },
  {
   "cell_type": "code",
   "execution_count": null,
   "metadata": {},
   "outputs": [],
   "source": []
  }
 ],
 "metadata": {
  "kernelspec": {
   "display_name": "Python 3",
   "language": "python",
   "name": "python3"
  },
  "language_info": {
   "codemirror_mode": {
    "name": "ipython",
    "version": 3
   },
   "file_extension": ".py",
   "mimetype": "text/x-python",
   "name": "python",
   "nbconvert_exporter": "python",
   "pygments_lexer": "ipython3",
   "version": "3.7.1"
  }
 },
 "nbformat": 4,
 "nbformat_minor": 2
}
